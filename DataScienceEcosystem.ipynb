{
 "cells": [
  {
   "cell_type": "markdown",
   "id": "c05607a2",
   "metadata": {},
   "source": [
    "Exercise 2: Create markdown cell with title of the notebook"
   ]
  },
  {
   "cell_type": "markdown",
   "id": "43bda775",
   "metadata": {},
   "source": [
    "# Data Science Tools and Ecosystem\n"
   ]
  },
  {
   "cell_type": "markdown",
   "id": "e17a3317",
   "metadata": {},
   "source": [
    "Exercise 3 - Create a markdown cell for an introduction"
   ]
  },
  {
   "cell_type": "markdown",
   "id": "7ed10b0d",
   "metadata": {},
   "source": [
    "## Introduction\n",
    "\n",
    "In this notebook, Data Science Tools and Ecosystem are summarized.\n",
    "\n",
    "**Objectives:**\n",
    "\n",
    "- List popular languages for Data Science.\n",
    "- List commonly used libraries used by Data Scientists.\n",
    "- Comment on Data Science tools.\n",
    "- Demonstrate arithmetic expression examples in Python.\n",
    "- Convert minutes to hours using a simple Python expression."
   ]
  },
  {
   "cell_type": "markdown",
   "id": "ff75a367",
   "metadata": {},
   "source": [
    "Exercise 4 - Create a markdown cell to list data science languages"
   ]
  },
  {
   "cell_type": "markdown",
   "id": "ade017b2",
   "metadata": {},
   "source": [
    "## Data Science Languages\n",
    "\n",
    "Some of the popular languages that Data Scientists use are:\n",
    "\n",
    "1. **Python.\n",
    "2. **R.\n",
    "3. **SQL.\n",
    "4. **Julia.\n",
    "5. **Scala.\n",
    "6. **Java.\n",
    "7. **C/C++.\n",
    "8. **JavaScript"
   ]
  },
  {
   "cell_type": "markdown",
   "id": "01de8e43",
   "metadata": {},
   "source": [
    "Exercise 5 - Create a markdown cell to list data science libraries"
   ]
  },
  {
   "cell_type": "markdown",
   "id": "016f4101",
   "metadata": {},
   "source": [
    "## Data Science Libraries\n",
    "\n",
    "Some of the commonly used libraries by Data Scientists include:\n",
    "\n",
    "1. **NumPy.\n",
    "2. **Pandas.\n",
    "3. **Scikit-learn.\n",
    "4. **Matplotlib.\n",
    "5. **TensorFlow.\n",
    "6. **PyTorch.\n",
    "7. **Scrapy.\n",
    "8. **BeautifulSoup.\n",
    "9. **LightGBM.\n",
    "10. **ELI5."
   ]
  },
  {
   "cell_type": "markdown",
   "id": "77ceef51",
   "metadata": {},
   "source": [
    "Exercise 6 - Create a markdown cell with a table of Data Science tools"
   ]
  },
  {
   "cell_type": "markdown",
   "id": "7cb028a9",
   "metadata": {},
   "source": [
    "## Data Science Tools\n",
    "\n",
    "| Data Science Tools            |\n",
    "| ------------------------------ |\n",
    "| Jupyter Notebooks             |\n",
    "| RStudio                        |\n",
    "| VS Code with Python extension |"
   ]
  },
  {
   "cell_type": "markdown",
   "id": "f42d136d",
   "metadata": {},
   "source": [
    "Exercise 7 - Create a markdown cell introducing arithmetic expression examples"
   ]
  },
  {
   "cell_type": "markdown",
   "id": "a7c9d256",
   "metadata": {},
   "source": [
    "### Arithmetic Expression Examples\n",
    "\n",
    "Below are a few examples of evaluating arithmetic expressions in Python:"
   ]
  },
  {
   "cell_type": "code",
   "execution_count": 23,
   "id": "006493cb",
   "metadata": {},
   "outputs": [
    {
     "data": {
      "text/plain": [
       "20"
      ]
     },
     "execution_count": 23,
     "metadata": {},
     "output_type": "execute_result"
    }
   ],
   "source": [
    "# Arithmetic operations\n",
    "code = compile(\"5 + 15\", \"<string>\", \"eval\")\n",
    "eval(code)\n",
    "# Result: 20"
   ]
  },
  {
   "cell_type": "markdown",
   "id": "cca8c485",
   "metadata": {},
   "source": [
    "Exercise 8 - Create a code cell to multiply and add numbers"
   ]
  },
  {
   "cell_type": "code",
   "execution_count": 24,
   "id": "75aea6f9",
   "metadata": {},
   "outputs": [
    {
     "data": {
      "text/plain": [
       "17"
      ]
     },
     "execution_count": 24,
     "metadata": {},
     "output_type": "execute_result"
    }
   ],
   "source": [
    "# This is a simple arithmetic expression to multiply then add integers.\n",
    "result = (3 * 4) + 5\n",
    "result\n",
    "# result: 17"
   ]
  },
  {
   "cell_type": "markdown",
   "id": "4e5b7e98",
   "metadata": {},
   "source": [
    "Exercise 9 - Create a code cell to convert minutes to hours"
   ]
  },
  {
   "cell_type": "code",
   "execution_count": 27,
   "id": "bd358a3c",
   "metadata": {},
   "outputs": [
    {
     "data": {
      "text/plain": [
       "3.3333333333333335"
      ]
     },
     "execution_count": 27,
     "metadata": {},
     "output_type": "execute_result"
    }
   ],
   "source": [
    "# This will convert 200 minutes to hours by dividing by 60.\n",
    "minutes = 200\n",
    "hours = minutes / 60\n",
    "hours"
   ]
  },
  {
   "cell_type": "markdown",
   "id": "c027e2cf",
   "metadata": {},
   "source": [
    "Exercise 10 -Insert a markdown cell to list Objectives."
   ]
  },
  {
   "cell_type": "markdown",
   "id": "2b460c2d",
   "metadata": {},
   "source": [
    "Below the introduction cell created in Exercise 3, insert a new markdown cell to list the objectives that this notebook covered (i.e. some of the key takeaways from the course). In this new cell start with an introductory line titled: Objectives: in bold font. Then using an unordered list (bullets) indicate 3 to 5 items covered in this notebook, such as List popular languages for Data Science."
   ]
  },
  {
   "cell_type": "markdown",
   "id": "efa59502",
   "metadata": {},
   "source": [
    "Exercise 11 - Create a markdown cell to indicate the Author’s name."
   ]
  },
  {
   "cell_type": "markdown",
   "id": "5a5cfdd4",
   "metadata": {},
   "source": [
    "## Author\n",
    "\n",
    "Yasmina Sweed\n"
   ]
  },
  {
   "cell_type": "code",
   "execution_count": null,
   "id": "32f303e0",
   "metadata": {},
   "outputs": [],
   "source": []
  }
 ],
 "metadata": {
  "kernelspec": {
   "display_name": "Python 3 (ipykernel)",
   "language": "python",
   "name": "python3"
  },
  "language_info": {
   "codemirror_mode": {
    "name": "ipython",
    "version": 3
   },
   "file_extension": ".py",
   "mimetype": "text/x-python",
   "name": "python",
   "nbconvert_exporter": "python",
   "pygments_lexer": "ipython3",
   "version": "3.11.5"
  }
 },
 "nbformat": 4,
 "nbformat_minor": 5
}
